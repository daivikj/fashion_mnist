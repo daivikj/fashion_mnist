{
  "nbformat": 4,
  "nbformat_minor": 0,
  "metadata": {
    "colab": {
      "name": "fashion_mnist",
      "version": "0.3.2",
      "provenance": []
    },
    "kernelspec": {
      "name": "python3",
      "display_name": "Python 3"
    },
    "accelerator": "GPU"
  },
  "cells": [
    {
      "cell_type": "code",
      "metadata": {
        "id": "Umnl-dpNJRhP",
        "colab_type": "code",
        "colab": {}
      },
      "source": [
        "import keras\n",
        "from keras.datasets import fashion_mnist\n",
        "from keras.models import Sequential\n",
        "from keras.layers import Dense, Flatten, Dropout, Conv2D, MaxPooling2D\n",
        "\n",
        "import matplotlib.pyplot as plt"
      ],
      "execution_count": 0,
      "outputs": []
    },
    {
      "cell_type": "code",
      "metadata": {
        "id": "-SeHkaU4Lzxc",
        "colab_type": "code",
        "colab": {
          "base_uri": "https://localhost:8080/",
          "height": 158
        },
        "outputId": "9fb07e0e-659a-472c-dda4-87b9223d11db"
      },
      "source": [
        "(x_train, y_train), (x_test, y_test) = fashion_mnist.load_data()"
      ],
      "execution_count": 2,
      "outputs": [
        {
          "output_type": "stream",
          "text": [
            "Downloading data from http://fashion-mnist.s3-website.eu-central-1.amazonaws.com/train-labels-idx1-ubyte.gz\n",
            "32768/29515 [=================================] - 0s 0us/step\n",
            "Downloading data from http://fashion-mnist.s3-website.eu-central-1.amazonaws.com/train-images-idx3-ubyte.gz\n",
            "26427392/26421880 [==============================] - 0s 0us/step\n",
            "Downloading data from http://fashion-mnist.s3-website.eu-central-1.amazonaws.com/t10k-labels-idx1-ubyte.gz\n",
            "8192/5148 [===============================================] - 0s 0us/step\n",
            "Downloading data from http://fashion-mnist.s3-website.eu-central-1.amazonaws.com/t10k-images-idx3-ubyte.gz\n",
            "4423680/4422102 [==============================] - 0s 0us/step\n"
          ],
          "name": "stdout"
        }
      ]
    },
    {
      "cell_type": "code",
      "metadata": {
        "id": "oJzM-sk0MEhn",
        "colab_type": "code",
        "colab": {
          "base_uri": "https://localhost:8080/",
          "height": 34
        },
        "outputId": "8f6ec3bd-a891-42d3-9f78-96326f5b8a18"
      },
      "source": [
        "x_train.shape\n",
        "x_train[5].shape"
      ],
      "execution_count": 3,
      "outputs": [
        {
          "output_type": "execute_result",
          "data": {
            "text/plain": [
              "(28, 28)"
            ]
          },
          "metadata": {
            "tags": []
          },
          "execution_count": 3
        }
      ]
    },
    {
      "cell_type": "code",
      "metadata": {
        "id": "HaVUfe4KNhXx",
        "colab_type": "code",
        "colab": {}
      },
      "source": [
        "x_train = x_train.reshape(60000,28,28,1)\n",
        "x_test = x_test.reshape(10000,28,28,1)"
      ],
      "execution_count": 0,
      "outputs": []
    },
    {
      "cell_type": "code",
      "metadata": {
        "id": "t-Y8uniVOKGi",
        "colab_type": "code",
        "colab": {}
      },
      "source": [
        "y_train = keras.utils.to_categorical(y_train,10)\n",
        "y_test = keras.utils.to_categorical(y_test,10)"
      ],
      "execution_count": 0,
      "outputs": []
    },
    {
      "cell_type": "code",
      "metadata": {
        "id": "hiqpwcbfOzpE",
        "colab_type": "code",
        "colab": {
          "base_uri": "https://localhost:8080/",
          "height": 195
        },
        "outputId": "85559f50-1df8-45c0-bf10-e93d69b28254"
      },
      "source": [
        "model = Sequential()\n",
        "model.add(Conv2D(32, kernel_size=3, activation='relu', input_shape=(28,28,1)))\n",
        "model.add(Conv2D(64, kernel_size=3, activation='relu'))\n",
        "model.add(MaxPooling2D(pool_size=(2,2)))\n",
        "model.add(Conv2D(64, kernel_size=3, activation='relu'))\n",
        "model.add(MaxPooling2D(pool_size=(2,2)))\n",
        "model.add(Flatten())\n",
        "model.add(Dense(100, activation='relu'))\n",
        "model.add(Dense(10, activation='softmax'))"
      ],
      "execution_count": 6,
      "outputs": [
        {
          "output_type": "stream",
          "text": [
            "WARNING: Logging before flag parsing goes to stderr.\n",
            "W0723 05:19:14.986377 139939017910144 deprecation_wrapper.py:119] From /usr/local/lib/python3.6/dist-packages/keras/backend/tensorflow_backend.py:74: The name tf.get_default_graph is deprecated. Please use tf.compat.v1.get_default_graph instead.\n",
            "\n",
            "W0723 05:19:15.032080 139939017910144 deprecation_wrapper.py:119] From /usr/local/lib/python3.6/dist-packages/keras/backend/tensorflow_backend.py:517: The name tf.placeholder is deprecated. Please use tf.compat.v1.placeholder instead.\n",
            "\n",
            "W0723 05:19:15.041770 139939017910144 deprecation_wrapper.py:119] From /usr/local/lib/python3.6/dist-packages/keras/backend/tensorflow_backend.py:4138: The name tf.random_uniform is deprecated. Please use tf.random.uniform instead.\n",
            "\n",
            "W0723 05:19:15.080262 139939017910144 deprecation_wrapper.py:119] From /usr/local/lib/python3.6/dist-packages/keras/backend/tensorflow_backend.py:3976: The name tf.nn.max_pool is deprecated. Please use tf.nn.max_pool2d instead.\n",
            "\n"
          ],
          "name": "stderr"
        }
      ]
    },
    {
      "cell_type": "code",
      "metadata": {
        "id": "5eUkoZvCQMLl",
        "colab_type": "code",
        "colab": {
          "base_uri": "https://localhost:8080/",
          "height": 422
        },
        "outputId": "60f9834e-a128-4a8b-cc10-989f504b8f25"
      },
      "source": [
        "model.summary()"
      ],
      "execution_count": 7,
      "outputs": [
        {
          "output_type": "stream",
          "text": [
            "_________________________________________________________________\n",
            "Layer (type)                 Output Shape              Param #   \n",
            "=================================================================\n",
            "conv2d_1 (Conv2D)            (None, 26, 26, 32)        320       \n",
            "_________________________________________________________________\n",
            "conv2d_2 (Conv2D)            (None, 24, 24, 64)        18496     \n",
            "_________________________________________________________________\n",
            "max_pooling2d_1 (MaxPooling2 (None, 12, 12, 64)        0         \n",
            "_________________________________________________________________\n",
            "conv2d_3 (Conv2D)            (None, 10, 10, 64)        36928     \n",
            "_________________________________________________________________\n",
            "max_pooling2d_2 (MaxPooling2 (None, 5, 5, 64)          0         \n",
            "_________________________________________________________________\n",
            "flatten_1 (Flatten)          (None, 1600)              0         \n",
            "_________________________________________________________________\n",
            "dense_1 (Dense)              (None, 100)               160100    \n",
            "_________________________________________________________________\n",
            "dense_2 (Dense)              (None, 10)                1010      \n",
            "=================================================================\n",
            "Total params: 216,854\n",
            "Trainable params: 216,854\n",
            "Non-trainable params: 0\n",
            "_________________________________________________________________\n"
          ],
          "name": "stdout"
        }
      ]
    },
    {
      "cell_type": "code",
      "metadata": {
        "id": "1DRFXlHYQQWj",
        "colab_type": "code",
        "colab": {
          "base_uri": "https://localhost:8080/",
          "height": 107
        },
        "outputId": "04afac11-6a91-4b45-930a-77df1f728a91"
      },
      "source": [
        "model.compile(loss='categorical_crossentropy', optimizer='adam', metrics=['accuracy'])"
      ],
      "execution_count": 8,
      "outputs": [
        {
          "output_type": "stream",
          "text": [
            "W0723 05:19:19.539967 139939017910144 deprecation_wrapper.py:119] From /usr/local/lib/python3.6/dist-packages/keras/optimizers.py:790: The name tf.train.Optimizer is deprecated. Please use tf.compat.v1.train.Optimizer instead.\n",
            "\n",
            "W0723 05:19:19.568763 139939017910144 deprecation_wrapper.py:119] From /usr/local/lib/python3.6/dist-packages/keras/backend/tensorflow_backend.py:3295: The name tf.log is deprecated. Please use tf.math.log instead.\n",
            "\n"
          ],
          "name": "stderr"
        }
      ]
    },
    {
      "cell_type": "code",
      "metadata": {
        "id": "ln3A9yiaQoj3",
        "colab_type": "code",
        "colab": {
          "base_uri": "https://localhost:8080/",
          "height": 386
        },
        "outputId": "74789260-a2df-4e20-c742-130987f32239"
      },
      "source": [
        "result = model.fit(x_train, y_train, batch_size=32, epochs=10, validation_data=(x_test, y_test), shuffle=True)"
      ],
      "execution_count": 14,
      "outputs": [
        {
          "output_type": "stream",
          "text": [
            "Train on 60000 samples, validate on 10000 samples\n",
            "Epoch 1/10\n",
            "60000/60000 [==============================] - 10s 170us/step - loss: 0.0781 - acc: 0.9778 - val_loss: 0.6907 - val_acc: 0.9078\n",
            "Epoch 2/10\n",
            "60000/60000 [==============================] - 9s 157us/step - loss: 0.0602 - acc: 0.9822 - val_loss: 0.6536 - val_acc: 0.9121\n",
            "Epoch 3/10\n",
            "60000/60000 [==============================] - 10s 159us/step - loss: 0.0720 - acc: 0.9808 - val_loss: 0.6870 - val_acc: 0.9049\n",
            "Epoch 4/10\n",
            "60000/60000 [==============================] - 9s 154us/step - loss: 0.0896 - acc: 0.9767 - val_loss: 0.6832 - val_acc: 0.9069\n",
            "Epoch 5/10\n",
            "60000/60000 [==============================] - 9s 153us/step - loss: 0.0787 - acc: 0.9791 - val_loss: 0.6783 - val_acc: 0.9036\n",
            "Epoch 6/10\n",
            "60000/60000 [==============================] - 9s 154us/step - loss: 0.0767 - acc: 0.9788 - val_loss: 0.6762 - val_acc: 0.9060\n",
            "Epoch 7/10\n",
            "60000/60000 [==============================] - 9s 154us/step - loss: 0.0767 - acc: 0.9793 - val_loss: 0.7832 - val_acc: 0.8978\n",
            "Epoch 8/10\n",
            "60000/60000 [==============================] - 10s 160us/step - loss: 0.0755 - acc: 0.9804 - val_loss: 0.7512 - val_acc: 0.9038\n",
            "Epoch 9/10\n",
            "60000/60000 [==============================] - 10s 162us/step - loss: 0.0751 - acc: 0.9811 - val_loss: 0.7652 - val_acc: 0.9072\n",
            "Epoch 10/10\n",
            "60000/60000 [==============================] - 9s 158us/step - loss: 0.0909 - acc: 0.9783 - val_loss: 0.7288 - val_acc: 0.9006\n"
          ],
          "name": "stdout"
        }
      ]
    },
    {
      "cell_type": "code",
      "metadata": {
        "id": "GPXZwhG8Q8l4",
        "colab_type": "code",
        "colab": {
          "base_uri": "https://localhost:8080/",
          "height": 34
        },
        "outputId": "2cf2ffac-8289-4d94-ec05-ab8a9d290692"
      },
      "source": [
        "result.history.keys()"
      ],
      "execution_count": 19,
      "outputs": [
        {
          "output_type": "execute_result",
          "data": {
            "text/plain": [
              "dict_keys(['val_loss', 'val_acc', 'loss', 'acc'])"
            ]
          },
          "metadata": {
            "tags": []
          },
          "execution_count": 19
        }
      ]
    },
    {
      "cell_type": "code",
      "metadata": {
        "id": "MnsA0LfATNYx",
        "colab_type": "code",
        "colab": {
          "base_uri": "https://localhost:8080/",
          "height": 721
        },
        "outputId": "fca8368f-e664-45d7-d01f-9bf0f24ca0e8"
      },
      "source": [
        "result.history"
      ],
      "execution_count": 21,
      "outputs": [
        {
          "output_type": "execute_result",
          "data": {
            "text/plain": [
              "{'acc': [0.9777666666666667,\n",
              "  0.9822333333333333,\n",
              "  0.98075,\n",
              "  0.9766666666666667,\n",
              "  0.9790666666666666,\n",
              "  0.97885,\n",
              "  0.9792666666666666,\n",
              "  0.9803833333333334,\n",
              "  0.9810833333333333,\n",
              "  0.9783],\n",
              " 'loss': [0.0780734322566868,\n",
              "  0.06023658782584313,\n",
              "  0.07200073222354819,\n",
              "  0.08959755224849747,\n",
              "  0.0787092919970278,\n",
              "  0.07669273446122586,\n",
              "  0.07671908180387685,\n",
              "  0.07549513946664702,\n",
              "  0.07510520366935583,\n",
              "  0.09087402079752638],\n",
              " 'val_acc': [0.9078,\n",
              "  0.9121,\n",
              "  0.9049,\n",
              "  0.9069,\n",
              "  0.9036,\n",
              "  0.906,\n",
              "  0.8978,\n",
              "  0.9038,\n",
              "  0.9072,\n",
              "  0.9006],\n",
              " 'val_loss': [0.6906623154195025,\n",
              "  0.6535958285307278,\n",
              "  0.6870251927453326,\n",
              "  0.6831611456323415,\n",
              "  0.6782963893579319,\n",
              "  0.6761531135053316,\n",
              "  0.7832245313814609,\n",
              "  0.7512251671459526,\n",
              "  0.7652468440402299,\n",
              "  0.7287937600854318]}"
            ]
          },
          "metadata": {
            "tags": []
          },
          "execution_count": 21
        }
      ]
    },
    {
      "cell_type": "code",
      "metadata": {
        "id": "Tn9-ckndYJaW",
        "colab_type": "code",
        "colab": {
          "base_uri": "https://localhost:8080/",
          "height": 301
        },
        "outputId": "86cdacfa-d487-439b-aed0-26a1628305d2"
      },
      "source": [
        "plt.plot(result.epoch, result.history['loss'], result.epoch, result.history['acc'], result.epoch, result.history['val_loss'], result.epoch, result.history['val_acc'])\n",
        "plt.legend(['Loss', 'Acc', 'Val Loss', 'Val Acc'])\n",
        "plt.xlabel('Epochs')"
      ],
      "execution_count": 27,
      "outputs": [
        {
          "output_type": "execute_result",
          "data": {
            "text/plain": [
              "Text(0.5, 0, 'Epochs')"
            ]
          },
          "metadata": {
            "tags": []
          },
          "execution_count": 27
        },
        {
          "output_type": "display_data",
          "data": {
            "image/png": "[encoded data removed]",
            "text/plain": [
              "<Figure size 432x288 with 1 Axes>"
            ]
          },
          "metadata": {
            "tags": []
          }
        }
      ]
    },
    {
      "cell_type": "code",
      "metadata": {
        "id": "g67JuoCIY5Da",
        "colab_type": "code",
        "colab": {}
      },
      "source": [
        ""
      ],
      "execution_count": 0,
      "outputs": []
    }
  ]
}